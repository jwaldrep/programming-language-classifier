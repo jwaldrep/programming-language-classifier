{
 "cells": [
  {
   "cell_type": "markdown",
   "metadata": {},
   "source": [
    "#Initial Setup"
   ]
  },
  {
   "cell_type": "code",
   "execution_count": 1,
   "metadata": {
    "collapsed": false
   },
   "outputs": [],
   "source": [
    "from lang_classifier import *"
   ]
  },
  {
   "cell_type": "code",
   "execution_count": 2,
   "metadata": {
    "collapsed": true
   },
   "outputs": [],
   "source": [
    "def setup():\n",
    "    \"\"\"Load the training benchmark training data and split it for train/test\"\"\"\n",
    "    df = load_bench_data()\n",
    "    X = df.text\n",
    "    y = df.language\n",
    "    test_data = load_test_data()\n",
    "    args = train_test_split(X, y, test_size=0.2, random_state=0)\n",
    "    # X_train, X_test, y_train, y_test\n",
    "    \n",
    "    return df, X, y, test_data, args"
   ]
  },
  {
   "cell_type": "code",
   "execution_count": 3,
   "metadata": {
    "collapsed": true
   },
   "outputs": [],
   "source": [
    "df, X, y, test_data, args = setup()  # Load and split the train/test data"
   ]
  },
  {
   "cell_type": "code",
   "execution_count": 4,
   "metadata": {
    "collapsed": false
   },
   "outputs": [
    {
     "name": "stdout",
     "output_type": "stream",
     "text": [
      "Train score: 0.991, Test score: 0.949\n",
      "Proportion of test data correctly labeled: 0.094\n",
      "      language       guess                                               text\n",
      "0      clojure     clojure  (defn cf-settings\\n  \"Setup settings for campf...\n",
      "1      clojure  javascript  var _ = require('lodash'),\\n    fs = require('...\n",
      "2      clojure     clojure  /* Riot v2.0.8, @license MIT, (c) 2015 Muut In...\n",
      "3      clojure         php    var r = riot.route = function(arg) {\\n    //...\n",
      "4       python        ruby  module ActiveJob\\n  module Core\\n    extend Ac...\n",
      "5       python     clojure  require 'formula'\\n\\nclass A52dec < Formula\\n ...\n",
      "6       python        ruby  module Fluent\\n  class Input\\n    include Conf...\n",
      "7       python     haskell  {-# LANGUAGE ScopedTypeVariables, FlexibleInst...\n",
      "8   javascript     haskell  reverseDependencies :: ModuleGraph -> M.Map Mo...\n",
      "9   javascript     clojure  {- git-annex extra config files\\n -\\n - Copyri...\n",
      "10  javascript      scheme  (define subst-f\\n  (lambda (new old l)\\n    (c...\n",
      "11  javascript     clojure  (ns my-cli.core)\\n\\n(defn -main [& args]\\n  (p...\n",
      "12        ruby      scheme              (define add1\\n  (lambda (n) (+ n 1)))\n",
      "13        ruby      scheme  (define-lib-primitive (length lst)\\n  (if (nul...\n",
      "14        ruby        java  /**\\n * Interface to represent a persistence s...\n",
      "15     haskell           c  /*\\n * Copyright 2002-2008 the original author...\n",
      "16     haskell       scala  package com.github.pathikrit\\n\\nimport scala.a...\n",
      "17     haskell       scala  /* sbt -- Simple Build Tool\\n * Copyright 2010...\n",
      "18      scheme      scheme  proc isaac::mix {a b c d e f g h} {\\n    set a...\n",
      "19      scheme      python  proc twitter::follow {nick uhost hand chan arg...\n",
      "20      scheme           c  class View\\n{\\n    /**\\n     * Data available ...\n",
      "21        java         php      public function formatLocalized($format)\\n...\n",
      "22        java     clojure  (extend-type String\\n  Person\\n  (first-name [...\n",
      "23       scala         php  class Application extends App {\\n\\t/**\\n\\t * @...\n",
      "24       scala       ocaml  type name = string\\n\\nlet compare_label label1...\n",
      "25         tcl       ocaml  let search_compiler_libs () =\\n  prerr_endline...\n",
      "26         tcl     clojure  (require '[overtone.live :as overtone])\\n\\n(de...\n",
      "27         php      python  from pkgutil import iter_modules\\nfrom subproc...\n",
      "28         php     clojure  import re\\nimport subprocess\\n\\ndef cmd_keymap...\n",
      "29         php        ruby  class NoSuchService(Exception):\\n    def __ini...\n",
      "30       ocaml      python  from collections import namedtuple\\nimport fun...\n",
      "31       ocaml  javascript  function errorHandler(context) {\\n  return fun...\n"
     ]
    }
   ],
   "source": [
    "# Use a generic bag of words/naive bayes classifier pipeline as a baseline\n",
    "spam_pipe = Pipeline([('bag_of_words', CountVectorizer()),\n",
    "                      ('bayes', MultinomialNB())])\n",
    "classifier = assess_classifier(spam_pipe, *args)\n",
    "c = classifier.predict(X)\n",
    "#print('Guesses: ', c[0:5])\n",
    "test_data['guess'] = pd.DataFrame(spam_pipe.predict(test_data['text']))\n",
    "correct = test_data[test_data.language == test_data.guess]\n",
    "print('Proportion of test data correctly labeled: {:.3f}'.format(len(correct) / len(test_data)))\n",
    "print(test_data[['language', 'guess', 'text']])"
   ]
  },
  {
   "cell_type": "code",
   "execution_count": 5,
   "metadata": {
    "collapsed": true
   },
   "outputs": [],
   "source": [
    "def longest_run_of_caps_feature(text):\n",
    "    runs = sorted(re.findall(r\"[A-Z]+\", text), key=len)\n",
    "    if len(runs) == 0:\n",
    "        return [0]\n",
    "    longest = runs[-1]\n",
    "    return [len(longest)]"
   ]
  },
  {
   "cell_type": "code",
   "execution_count": null,
   "metadata": {
    "collapsed": true
   },
   "outputs": [],
   "source": []
  },
  {
   "cell_type": "code",
   "execution_count": 6,
   "metadata": {
    "collapsed": false
   },
   "outputs": [
    {
     "data": {
      "text/plain": [
       "array([[ 1.        ,  0.00550964]])"
      ]
     },
     "execution_count": 6,
     "metadata": {},
     "output_type": "execute_result"
    }
   ],
   "source": [
    "txt = '''\n",
    "# Test python program\n",
    "class MyClass:\n",
    "    \"\"\"MyClass is a class to do something\"\"\"\n",
    "    def __init__(self, name='name'):\n",
    "        self.name = name\n",
    "    def longest_run_of_caps_feature(text):\n",
    "        runs = sorted(re.findall(r\"[A-Z]+\", text), key=len)\n",
    "        if len(runs) == 0:\n",
    "            return [0]\n",
    "        longest = runs[-1]\n",
    "        return [len(longest)]        \n",
    "'''\n",
    "featurizer = CustomFeaturizer(longest_run_of_caps_feature,\n",
    "                              percent_periods_feature)\n",
    "featurizer.transform([txt])"
   ]
  },
  {
   "cell_type": "markdown",
   "metadata": {},
   "source": [
    "##Feature Ideas\n",
    "- Longest line\n",
    "- bag of words with chars, ngrams, let\n",
    "- run of )\n",
    "- % _, }, :\\n, \"\"\"\n",
    "- key words: def, defn, var `__x__`, module, end, ->, ::, ;, /*, //, case, final, extends, public, protected, $word, @param, self, this\n",
    "- % nested dots\n",
    "- () nest depth\n",
    "- ignore/strip comments?\n",
    "-Hyphenated or camel or underscored\n",
    "-Indentation...\n",
    "\n"
   ]
  },
  {
   "cell_type": "code",
   "execution_count": null,
   "metadata": {
    "collapsed": true
   },
   "outputs": [],
   "source": []
  }
 ],
 "metadata": {
  "kernelspec": {
   "display_name": "Python 3",
   "language": "python",
   "name": "python3"
  },
  "language_info": {
   "codemirror_mode": {
    "name": "ipython",
    "version": 3
   },
   "file_extension": ".py",
   "mimetype": "text/x-python",
   "name": "python",
   "nbconvert_exporter": "python",
   "pygments_lexer": "ipython3",
   "version": "3.4.3"
  }
 },
 "nbformat": 4,
 "nbformat_minor": 0
}
