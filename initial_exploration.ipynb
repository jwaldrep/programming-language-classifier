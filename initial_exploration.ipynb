{
 "cells": [
  {
   "cell_type": "code",
   "execution_count": 1,
   "metadata": {
    "collapsed": false
   },
   "outputs": [],
   "source": [
    "from sklearn.feature_extraction.text import CountVectorizer, TfidfTransformer\n",
    "from sklearn.cross_validation import train_test_split\n",
    "from sklearn.naive_bayes import MultinomialNB, GaussianNB, BernoulliNB\n",
    "from sklearn.pipeline import Pipeline\n",
    "import pandas as pd\n",
    "from os import walk\n",
    "import re\n",
    "import glob"
   ]
  },
  {
   "cell_type": "code",
   "execution_count": 2,
   "metadata": {
    "collapsed": true
   },
   "outputs": [],
   "source": [
    "def extract_extension(string):\n",
    "    match = re.match('.*\\.(?P<ext>.*)$', string)\n",
    "    if match:\n",
    "        return match.groupdict()['ext']"
   ]
  },
  {
   "cell_type": "code",
   "execution_count": null,
   "metadata": {
    "collapsed": false
   },
   "outputs": [],
   "source": []
  },
  {
   "cell_type": "code",
   "execution_count": 50,
   "metadata": {
    "collapsed": false
   },
   "outputs": [
    {
     "data": {
      "text/html": [
       "<div style=\"max-height:1000px;max-width:1500px;overflow:auto;\">\n",
       "<table border=\"1\" class=\"dataframe\">\n",
       "  <thead>\n",
       "    <tr style=\"text-align: right;\">\n",
       "      <th></th>\n",
       "      <th>language</th>\n",
       "      <th>text</th>\n",
       "    </tr>\n",
       "  </thead>\n",
       "  <tbody>\n",
       "    <tr>\n",
       "      <th>0</th>\n",
       "      <td>ats</td>\n",
       "      <td>(*\\n** The Computer Language Benchmarks Game\\n...</td>\n",
       "    </tr>\n",
       "    <tr>\n",
       "      <th>1</th>\n",
       "      <td>ats</td>\n",
       "      <td>(*\\n** The Computer Language Benchmarks Game\\n...</td>\n",
       "    </tr>\n",
       "    <tr>\n",
       "      <th>2</th>\n",
       "      <td>clojure</td>\n",
       "      <td>;; The Computer Language Benchmarks Game\\n;; h...</td>\n",
       "    </tr>\n",
       "    <tr>\n",
       "      <th>3</th>\n",
       "      <td>clojure</td>\n",
       "      <td>;; The Computer Language Benchmarks Game\\n;; h...</td>\n",
       "    </tr>\n",
       "    <tr>\n",
       "      <th>4</th>\n",
       "      <td>clojure</td>\n",
       "      <td>;; The Computer Language Benchmarks Game\\n;; h...</td>\n",
       "    </tr>\n",
       "    <tr>\n",
       "      <th>5</th>\n",
       "      <td>csharp</td>\n",
       "      <td>﻿/*\\n      The Computer Language Benchmarks Ga...</td>\n",
       "    </tr>\n",
       "    <tr>\n",
       "      <th>6</th>\n",
       "      <td>csharp</td>\n",
       "      <td>/* The Computer Language Benchmarks Game\\n   h...</td>\n",
       "    </tr>\n",
       "    <tr>\n",
       "      <th>7</th>\n",
       "      <td>dart</td>\n",
       "      <td>/* The Computer Language Benchmarks game\\n   h...</td>\n",
       "    </tr>\n",
       "    <tr>\n",
       "      <th>8</th>\n",
       "      <td>erlang</td>\n",
       "      <td>% The Computer Language Benchmarks Game\\n% htt...</td>\n",
       "    </tr>\n",
       "    <tr>\n",
       "      <th>9</th>\n",
       "      <td>erlang</td>\n",
       "      <td>% The Computer Language Benchmarks Game\\n% htt...</td>\n",
       "    </tr>\n",
       "    <tr>\n",
       "      <th>10</th>\n",
       "      <td>fpascal</td>\n",
       "      <td>(*\\n  The Computer Language Benchmarks Game\\n ...</td>\n",
       "    </tr>\n",
       "    <tr>\n",
       "      <th>11</th>\n",
       "      <td>fsharp</td>\n",
       "      <td>﻿(*\\n      The Computer Language Benchmarks Ga...</td>\n",
       "    </tr>\n",
       "    <tr>\n",
       "      <th>12</th>\n",
       "      <td>fsharp</td>\n",
       "      <td>﻿// The Computer Language Benchmarks Game\\n// ...</td>\n",
       "    </tr>\n",
       "    <tr>\n",
       "      <th>13</th>\n",
       "      <td>fsharp</td>\n",
       "      <td>﻿// The Computer Language Benchmarks Game\\n// ...</td>\n",
       "    </tr>\n",
       "    <tr>\n",
       "      <th>14</th>\n",
       "      <td>gcc</td>\n",
       "      <td>/* The Computer Language Benchmarks Game\\n * h...</td>\n",
       "    </tr>\n",
       "    <tr>\n",
       "      <th>15</th>\n",
       "      <td>gcc</td>\n",
       "      <td>/* \\n * The Computer Language Benchmarks Game ...</td>\n",
       "    </tr>\n",
       "    <tr>\n",
       "      <th>16</th>\n",
       "      <td>gcc</td>\n",
       "      <td>// The Computer Language Benchmarks Game\\n// h...</td>\n",
       "    </tr>\n",
       "    <tr>\n",
       "      <th>17</th>\n",
       "      <td>gcc</td>\n",
       "      <td>/* The Computer Language Benchmarks Game\\n * h...</td>\n",
       "    </tr>\n",
       "    <tr>\n",
       "      <th>18</th>\n",
       "      <td>gcc</td>\n",
       "      <td>/* The Computer Language Benchmarks Game\\n * h...</td>\n",
       "    </tr>\n",
       "    <tr>\n",
       "      <th>19</th>\n",
       "      <td>gcc</td>\n",
       "      <td>/* The Computer Language Benchmarks Game\\n * h...</td>\n",
       "    </tr>\n",
       "    <tr>\n",
       "      <th>20</th>\n",
       "      <td>ghc</td>\n",
       "      <td>--\\n-- The Computer Language Benchmarks Game\\n...</td>\n",
       "    </tr>\n",
       "    <tr>\n",
       "      <th>21</th>\n",
       "      <td>ghc</td>\n",
       "      <td>--\\n-- The Computer Language Benchmarks Game\\n...</td>\n",
       "    </tr>\n",
       "    <tr>\n",
       "      <th>22</th>\n",
       "      <td>ghc</td>\n",
       "      <td>--\\n-- The Computer Language Benchmarks Game\\n...</td>\n",
       "    </tr>\n",
       "    <tr>\n",
       "      <th>23</th>\n",
       "      <td>gnat</td>\n",
       "      <td>-- The Computer Language Benchmarks Game\\n-- h...</td>\n",
       "    </tr>\n",
       "    <tr>\n",
       "      <th>24</th>\n",
       "      <td>gnat</td>\n",
       "      <td>-- The Computer Language Benchmarks Game\\n-- h...</td>\n",
       "    </tr>\n",
       "    <tr>\n",
       "      <th>25</th>\n",
       "      <td>gnat</td>\n",
       "      <td>--  The Computer Language Benchmarks Game\\n-- ...</td>\n",
       "    </tr>\n",
       "    <tr>\n",
       "      <th>26</th>\n",
       "      <td>gnat</td>\n",
       "      <td>--  The Computer Language Benchmarks Game\\n-- ...</td>\n",
       "    </tr>\n",
       "    <tr>\n",
       "      <th>27</th>\n",
       "      <td>go</td>\n",
       "      <td>/* The Computer Language Benchmarks Game\\n * h...</td>\n",
       "    </tr>\n",
       "    <tr>\n",
       "      <th>28</th>\n",
       "      <td>go</td>\n",
       "      <td>/* The Computer Language Benchmarks Game\\n * h...</td>\n",
       "    </tr>\n",
       "    <tr>\n",
       "      <th>29</th>\n",
       "      <td>go</td>\n",
       "      <td>/* The Computer Language Benchmarks Game\\n * h...</td>\n",
       "    </tr>\n",
       "    <tr>\n",
       "      <th>...</th>\n",
       "      <td>...</td>\n",
       "      <td>...</td>\n",
       "    </tr>\n",
       "    <tr>\n",
       "      <th>893</th>\n",
       "      <td>go</td>\n",
       "      <td>/* The Computer Language Benchmarks Game\\n   h...</td>\n",
       "    </tr>\n",
       "    <tr>\n",
       "      <th>894</th>\n",
       "      <td>gpp</td>\n",
       "      <td>/*\\n* The Computer Language Benchmarks Game\\n*...</td>\n",
       "    </tr>\n",
       "    <tr>\n",
       "      <th>895</th>\n",
       "      <td>gpp</td>\n",
       "      <td>/*\\n * The Computer Language Benchmarks Game\\n...</td>\n",
       "    </tr>\n",
       "    <tr>\n",
       "      <th>896</th>\n",
       "      <td>gpp</td>\n",
       "      <td>/*\\n* The Computer Language Benchmarks Game\\n*...</td>\n",
       "    </tr>\n",
       "    <tr>\n",
       "      <th>897</th>\n",
       "      <td>gpp</td>\n",
       "      <td>/*\\n* The Computer Language Benchmarks Game\\n*...</td>\n",
       "    </tr>\n",
       "    <tr>\n",
       "      <th>898</th>\n",
       "      <td>gpp</td>\n",
       "      <td>/*\\n* The Computer Language Benchmarks Game\\n*...</td>\n",
       "    </tr>\n",
       "    <tr>\n",
       "      <th>899</th>\n",
       "      <td>java</td>\n",
       "      <td>/**\\n * The Computer Language Benchmarks Game\\...</td>\n",
       "    </tr>\n",
       "    <tr>\n",
       "      <th>900</th>\n",
       "      <td>java</td>\n",
       "      <td>/**\\n * The Computer Language Benchmarks Game\\...</td>\n",
       "    </tr>\n",
       "    <tr>\n",
       "      <th>901</th>\n",
       "      <td>java</td>\n",
       "      <td>/**\\n * The Computer Language Benchmarks Game\\...</td>\n",
       "    </tr>\n",
       "    <tr>\n",
       "      <th>902</th>\n",
       "      <td>java</td>\n",
       "      <td>/**\\n * The Computer Language Benchmarks Game\\...</td>\n",
       "    </tr>\n",
       "    <tr>\n",
       "      <th>903</th>\n",
       "      <td>java</td>\n",
       "      <td>/**\\n * The Computer Language Benchmarks Game\\...</td>\n",
       "    </tr>\n",
       "    <tr>\n",
       "      <th>904</th>\n",
       "      <td>java</td>\n",
       "      <td>/**\\n * The Computer Language Benchmarks Game\\...</td>\n",
       "    </tr>\n",
       "    <tr>\n",
       "      <th>905</th>\n",
       "      <td>jruby</td>\n",
       "      <td># The Computer Language Benchmarks Game\\n# htt...</td>\n",
       "    </tr>\n",
       "    <tr>\n",
       "      <th>906</th>\n",
       "      <td>jruby</td>\n",
       "      <td># The Computer Language Benchmarks Game\\n# htt...</td>\n",
       "    </tr>\n",
       "    <tr>\n",
       "      <th>907</th>\n",
       "      <td>lua</td>\n",
       "      <td>-- The Computer Language Benchmarks Game\\n-- h...</td>\n",
       "    </tr>\n",
       "    <tr>\n",
       "      <th>908</th>\n",
       "      <td>ocaml</td>\n",
       "      <td>(* The Computer Language Benchmarks Game\\n * h...</td>\n",
       "    </tr>\n",
       "    <tr>\n",
       "      <th>909</th>\n",
       "      <td>ocaml</td>\n",
       "      <td>(* The Computer Language Benchmarks Game\\n * h...</td>\n",
       "    </tr>\n",
       "    <tr>\n",
       "      <th>910</th>\n",
       "      <td>ocaml</td>\n",
       "      <td>(* The Computer Language Benchmarks Game\\n * h...</td>\n",
       "    </tr>\n",
       "    <tr>\n",
       "      <th>911</th>\n",
       "      <td>oz</td>\n",
       "      <td>% The Computer Language Benchmarks Game       ...</td>\n",
       "    </tr>\n",
       "    <tr>\n",
       "      <th>912</th>\n",
       "      <td>perl</td>\n",
       "      <td># The Computer Language Benchmarks Game\\n# htt...</td>\n",
       "    </tr>\n",
       "    <tr>\n",
       "      <th>913</th>\n",
       "      <td>perl</td>\n",
       "      <td># The Computer Language Benchmarks Game\\n# htt...</td>\n",
       "    </tr>\n",
       "    <tr>\n",
       "      <th>914</th>\n",
       "      <td>python3</td>\n",
       "      <td># The Computer Language Benchmarks Game\\n# htt...</td>\n",
       "    </tr>\n",
       "    <tr>\n",
       "      <th>915</th>\n",
       "      <td>python3</td>\n",
       "      <td># The Computer Language Benchmarks Game\\n# htt...</td>\n",
       "    </tr>\n",
       "    <tr>\n",
       "      <th>916</th>\n",
       "      <td>racket</td>\n",
       "      <td>#lang racket/base\\n\\n;;; The Computer Language...</td>\n",
       "    </tr>\n",
       "    <tr>\n",
       "      <th>917</th>\n",
       "      <td>sbcl</td>\n",
       "      <td>;;; The Computer Language Benchmarks Game\\n;;;...</td>\n",
       "    </tr>\n",
       "    <tr>\n",
       "      <th>918</th>\n",
       "      <td>sbcl</td>\n",
       "      <td>;;; The Computer Language Benchmarks Game\\n;;;...</td>\n",
       "    </tr>\n",
       "    <tr>\n",
       "      <th>919</th>\n",
       "      <td>scala</td>\n",
       "      <td>/* The Computer Language Benchmarks Game\\n   h...</td>\n",
       "    </tr>\n",
       "    <tr>\n",
       "      <th>920</th>\n",
       "      <td>vw</td>\n",
       "      <td>\"* The Computer Language Benchmarks Game\\n    ...</td>\n",
       "    </tr>\n",
       "    <tr>\n",
       "      <th>921</th>\n",
       "      <td>yarv</td>\n",
       "      <td># The Computer Language Benchmarks Game\\n# htt...</td>\n",
       "    </tr>\n",
       "    <tr>\n",
       "      <th>922</th>\n",
       "      <td>yarv</td>\n",
       "      <td># The Computer Language Benchmarks Game\\n# htt...</td>\n",
       "    </tr>\n",
       "  </tbody>\n",
       "</table>\n",
       "<p>923 rows × 2 columns</p>\n",
       "</div>"
      ],
      "text/plain": [
       "    language                                               text\n",
       "0        ats  (*\\n** The Computer Language Benchmarks Game\\n...\n",
       "1        ats  (*\\n** The Computer Language Benchmarks Game\\n...\n",
       "2    clojure  ;; The Computer Language Benchmarks Game\\n;; h...\n",
       "3    clojure  ;; The Computer Language Benchmarks Game\\n;; h...\n",
       "4    clojure  ;; The Computer Language Benchmarks Game\\n;; h...\n",
       "5     csharp  ﻿/*\\n      The Computer Language Benchmarks Ga...\n",
       "6     csharp  /* The Computer Language Benchmarks Game\\n   h...\n",
       "7       dart  /* The Computer Language Benchmarks game\\n   h...\n",
       "8     erlang  % The Computer Language Benchmarks Game\\n% htt...\n",
       "9     erlang  % The Computer Language Benchmarks Game\\n% htt...\n",
       "10   fpascal  (*\\n  The Computer Language Benchmarks Game\\n ...\n",
       "11    fsharp  ﻿(*\\n      The Computer Language Benchmarks Ga...\n",
       "12    fsharp  ﻿// The Computer Language Benchmarks Game\\n// ...\n",
       "13    fsharp  ﻿// The Computer Language Benchmarks Game\\n// ...\n",
       "14       gcc  /* The Computer Language Benchmarks Game\\n * h...\n",
       "15       gcc  /* \\n * The Computer Language Benchmarks Game ...\n",
       "16       gcc  // The Computer Language Benchmarks Game\\n// h...\n",
       "17       gcc  /* The Computer Language Benchmarks Game\\n * h...\n",
       "18       gcc  /* The Computer Language Benchmarks Game\\n * h...\n",
       "19       gcc  /* The Computer Language Benchmarks Game\\n * h...\n",
       "20       ghc  --\\n-- The Computer Language Benchmarks Game\\n...\n",
       "21       ghc  --\\n-- The Computer Language Benchmarks Game\\n...\n",
       "22       ghc  --\\n-- The Computer Language Benchmarks Game\\n...\n",
       "23      gnat  -- The Computer Language Benchmarks Game\\n-- h...\n",
       "24      gnat  -- The Computer Language Benchmarks Game\\n-- h...\n",
       "25      gnat  --  The Computer Language Benchmarks Game\\n-- ...\n",
       "26      gnat  --  The Computer Language Benchmarks Game\\n-- ...\n",
       "27        go  /* The Computer Language Benchmarks Game\\n * h...\n",
       "28        go  /* The Computer Language Benchmarks Game\\n * h...\n",
       "29        go  /* The Computer Language Benchmarks Game\\n * h...\n",
       "..       ...                                                ...\n",
       "893       go  /* The Computer Language Benchmarks Game\\n   h...\n",
       "894      gpp  /*\\n* The Computer Language Benchmarks Game\\n*...\n",
       "895      gpp  /*\\n * The Computer Language Benchmarks Game\\n...\n",
       "896      gpp  /*\\n* The Computer Language Benchmarks Game\\n*...\n",
       "897      gpp  /*\\n* The Computer Language Benchmarks Game\\n*...\n",
       "898      gpp  /*\\n* The Computer Language Benchmarks Game\\n*...\n",
       "899     java  /**\\n * The Computer Language Benchmarks Game\\...\n",
       "900     java  /**\\n * The Computer Language Benchmarks Game\\...\n",
       "901     java  /**\\n * The Computer Language Benchmarks Game\\...\n",
       "902     java  /**\\n * The Computer Language Benchmarks Game\\...\n",
       "903     java  /**\\n * The Computer Language Benchmarks Game\\...\n",
       "904     java  /**\\n * The Computer Language Benchmarks Game\\...\n",
       "905    jruby  # The Computer Language Benchmarks Game\\n# htt...\n",
       "906    jruby  # The Computer Language Benchmarks Game\\n# htt...\n",
       "907      lua  -- The Computer Language Benchmarks Game\\n-- h...\n",
       "908    ocaml  (* The Computer Language Benchmarks Game\\n * h...\n",
       "909    ocaml  (* The Computer Language Benchmarks Game\\n * h...\n",
       "910    ocaml  (* The Computer Language Benchmarks Game\\n * h...\n",
       "911       oz  % The Computer Language Benchmarks Game       ...\n",
       "912     perl  # The Computer Language Benchmarks Game\\n# htt...\n",
       "913     perl  # The Computer Language Benchmarks Game\\n# htt...\n",
       "914  python3  # The Computer Language Benchmarks Game\\n# htt...\n",
       "915  python3  # The Computer Language Benchmarks Game\\n# htt...\n",
       "916   racket  #lang racket/base\\n\\n;;; The Computer Language...\n",
       "917     sbcl  ;;; The Computer Language Benchmarks Game\\n;;;...\n",
       "918     sbcl  ;;; The Computer Language Benchmarks Game\\n;;;...\n",
       "919    scala  /* The Computer Language Benchmarks Game\\n   h...\n",
       "920       vw  \"* The Computer Language Benchmarks Game\\n    ...\n",
       "921     yarv  # The Computer Language Benchmarks Game\\n# htt...\n",
       "922     yarv  # The Computer Language Benchmarks Game\\n# htt...\n",
       "\n",
       "[923 rows x 2 columns]"
      ]
     },
     "execution_count": 50,
     "metadata": {},
     "output_type": "execute_result"
    }
   ],
   "source": [
    "text = ''\n",
    "df = pd.DataFrame(columns=['language', 'text'])\n",
    "#files = glob.glob('bench/binarytrees/*')\n",
    "files = glob.glob('bench/*/*')\n",
    "# ['./bench/binarytrees/binarytrees.clojure',\n",
    "#          './bench/binarytrees/binarytrees.csharp']\n",
    "\n",
    "for fn in files:\n",
    "    try:\n",
    "        with open(fn) as fh:\n",
    "    #         df.loc[extract_extension(fn)] = ''.join(fh.readlines())\n",
    "            data = {'language': extract_extension(fn),\n",
    "                    'text': ''.join(fh.readlines())}\n",
    "            if data['language'] and data['text']:\n",
    "                df = df.append(data, ignore_index = True)\n",
    "    except (IsADirectoryError, UnicodeDecodeError):\n",
    "        pass\n",
    "df"
   ]
  },
  {
   "cell_type": "code",
   "execution_count": 54,
   "metadata": {
    "collapsed": false
   },
   "outputs": [
    {
     "data": {
      "text/html": [
       "<div style=\"max-height:1000px;max-width:1500px;overflow:auto;\">\n",
       "<table border=\"1\" class=\"dataframe\">\n",
       "  <thead>\n",
       "    <tr style=\"text-align: right;\">\n",
       "      <th></th>\n",
       "      <th>language</th>\n",
       "      <th>text</th>\n",
       "    </tr>\n",
       "  </thead>\n",
       "  <tbody>\n",
       "  </tbody>\n",
       "</table>\n",
       "</div>"
      ],
      "text/plain": [
       "Empty DataFrame\n",
       "Columns: [language, text]\n",
       "Index: []"
      ]
     },
     "execution_count": 54,
     "metadata": {},
     "output_type": "execute_result"
    }
   ],
   "source": [
    "df[df.language == None]"
   ]
  },
  {
   "cell_type": "code",
   "execution_count": 20,
   "metadata": {
    "collapsed": false
   },
   "outputs": [],
   "source": [
    "# walker = os.walk('./bench/binarytrees/')\n",
    "# next(walker)"
   ]
  },
  {
   "cell_type": "code",
   "execution_count": 55,
   "metadata": {
    "collapsed": false
   },
   "outputs": [],
   "source": [
    "def test_classifier(pipe, *split_args):\n",
    "    #classifier = classifierType()\n",
    "    pipe.fit(split_args[0], split_args[2])\n",
    "#     predicted = classifier.predict(X_test)\n",
    "    train_score = pipe.score(split_args[0], split_args[2])\n",
    "    test_score = pipe.score(split_args[1], split_args[3])\n",
    "    print('Train score: {}, Test score: {}'.format(train_score, test_score))\n",
    "    return pipe"
   ]
  },
  {
   "cell_type": "code",
   "execution_count": 104,
   "metadata": {
    "collapsed": false
   },
   "outputs": [],
   "source": [
    "X = df.text\n",
    "y = df.language\n",
    "args = train_test_split(X, y, test_size=0.2, )#random_state=0) # X_train, X_test, y_train, y_test\n"
   ]
  },
  {
   "cell_type": "code",
   "execution_count": 105,
   "metadata": {
    "collapsed": false
   },
   "outputs": [
    {
     "name": "stdout",
     "output_type": "stream",
     "text": [
      "Train score: 0.9186991869918699, Test score: 0.7243243243243244\n"
     ]
    }
   ],
   "source": [
    "spam_pipe = Pipeline([('bag_of_words', CountVectorizer()),\n",
    "#                       ('tfidf', TfidfTransformer()),\n",
    "                      ('bayes', MultinomialNB())])\n",
    "# spam_pipe\n",
    "classifier = test_classifier(spam_pipe, *args)\n"
   ]
  },
  {
   "cell_type": "code",
   "execution_count": 24,
   "metadata": {
    "collapsed": false
   },
   "outputs": [
    {
     "data": {
      "text/plain": [
       "array(['yarv', 'yarv', 'yarv', ..., 'yarv', 'yarv', 'yarv'], \n",
       "      dtype='<U7')"
      ]
     },
     "execution_count": 24,
     "metadata": {},
     "output_type": "execute_result"
    }
   ],
   "source": [
    "classifier.predict(args[1].iloc[2])"
   ]
  },
  {
   "cell_type": "markdown",
   "metadata": {},
   "source": [
    "####With data from a small dataset (the binarytree directory only, ~80 files), the bag_of_words/multinomial naive Bayes' pipeline got high training scores (>0.9), but low test scores (between ~0.05 and ~0.5).\n",
    "####With the larger dataset ( > 900 files), the score was consistently between 0.65 and 0.75"
   ]
  },
  {
   "cell_type": "code",
   "execution_count": 106,
   "metadata": {
    "collapsed": false
   },
   "outputs": [
    {
     "name": "stdout",
     "output_type": "stream",
     "text": [
      "Train score: 0.7953929539295393, Test score: 0.5783783783783784\n"
     ]
    }
   ],
   "source": [
    "spam_pipe = Pipeline([('bag_of_words', CountVectorizer()),\n",
    "#                       ('tfidf', TfidfTransformer()),\n",
    "                      ('bayes', MultinomialNB())])\n",
    "# spam_pipe\n",
    "classifier = test_classifier(spam_pipe, *args)\n"
   ]
  },
  {
   "cell_type": "markdown",
   "metadata": {},
   "source": [
    "####Adding tfidf into the pipeline made it perform significantly worse"
   ]
  },
  {
   "cell_type": "code",
   "execution_count": 118,
   "metadata": {
    "collapsed": true
   },
   "outputs": [],
   "source": [
    "from sklearn.ensemble import RandomForestClassifier"
   ]
  },
  {
   "cell_type": "code",
   "execution_count": 122,
   "metadata": {
    "collapsed": false
   },
   "outputs": [
    {
     "name": "stdout",
     "output_type": "stream",
     "text": [
      "CPU times: user 2 µs, sys: 0 ns, total: 2 µs\n",
      "Wall time: 5.01 µs\n",
      "Train score: 0.9688346883468835, Test score: 0.8594594594594595\n"
     ]
    }
   ],
   "source": [
    "%time\n",
    "#clf = RandomForestClassifier(n_estimators=100, )#random_state=0)\n",
    "#visualize_tree(clf, X, y, boundaries=False);\n",
    "\n",
    "spam_pipe = Pipeline([('bag_of_words', CountVectorizer()),\n",
    "                       ('tfidf', TfidfTransformer()),\n",
    "                      ('RFC', RandomForestClassifier())])\n",
    "classifier = test_classifier(spam_pipe, *args)"
   ]
  },
  {
   "cell_type": "markdown",
   "metadata": {},
   "source": [
    "####Random Forest with 10 estimators (default) is consistently > 0.80, usually in the range 0.8 to 0.9.  With n=10, it takes a few microseconds to run on the ~900 entry dataset."
   ]
  },
  {
   "cell_type": "code",
   "execution_count": 130,
   "metadata": {
    "collapsed": false
   },
   "outputs": [
    {
     "name": "stdout",
     "output_type": "stream",
     "text": [
      "CPU times: user 2 µs, sys: 1 µs, total: 3 µs\n",
      "Wall time: 5.01 µs\n",
      "Train score: 0.9728997289972899, Test score: 0.8756756756756757\n"
     ]
    }
   ],
   "source": [
    "%time\n",
    "#visualize_tree(clf, X, y, boundaries=False);\n",
    "\n",
    "spam_pipe = Pipeline([('bag_of_words', CountVectorizer()),\n",
    "                       ('tfidf', TfidfTransformer()),\n",
    "                      ('RFC', RandomForestClassifier())])\n",
    "spam_pipe.set_params(RFC__n_estimators=1000)\n",
    "classifier = test_classifier(spam_pipe, *args)"
   ]
  },
  {
   "cell_type": "markdown",
   "metadata": {},
   "source": [
    "####Not significantly better for n_estimators=1000, but it does take about 30 seconds to run"
   ]
  },
  {
   "cell_type": "code",
   "execution_count": null,
   "metadata": {
    "collapsed": true
   },
   "outputs": [],
   "source": []
  },
  {
   "cell_type": "code",
   "execution_count": null,
   "metadata": {
    "collapsed": true
   },
   "outputs": [],
   "source": []
  },
  {
   "cell_type": "code",
   "execution_count": null,
   "metadata": {
    "collapsed": true
   },
   "outputs": [],
   "source": []
  },
  {
   "cell_type": "code",
   "execution_count": 74,
   "metadata": {
    "collapsed": false
   },
   "outputs": [],
   "source": [
    "# from sklearn.tree import DecisionTreeClassifier, export_graphviz\n",
    "# classifier = test_classifier(DecisionTreeClassifier(criterion='entropy'), *args)\n",
    "# export_graphviz(classifier, out_file='tree.dot')  "
   ]
  },
  {
   "cell_type": "code",
   "execution_count": null,
   "metadata": {
    "collapsed": true
   },
   "outputs": [],
   "source": []
  }
 ],
 "metadata": {
  "kernelspec": {
   "display_name": "Python 3",
   "language": "python",
   "name": "python3"
  },
  "language_info": {
   "codemirror_mode": {
    "name": "ipython",
    "version": 3
   },
   "file_extension": ".py",
   "mimetype": "text/x-python",
   "name": "python",
   "nbconvert_exporter": "python",
   "pygments_lexer": "ipython3",
   "version": "3.4.3"
  }
 },
 "nbformat": 4,
 "nbformat_minor": 0
}
